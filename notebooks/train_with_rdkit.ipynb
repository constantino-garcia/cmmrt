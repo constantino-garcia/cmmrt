{
 "cells": [
  {
   "cell_type": "markdown",
   "id": "73a2b257",
   "metadata": {},
   "source": [
    "# Train a DNN using RDKit\n",
    "This notebook illustrates how to train a Deep Neural Network on the SMRT dataset using fingerprints computed with RDKit. To get started, make sure you have installed `cmmrt` and `RDKit`."
   ]
  },
  {
   "cell_type": "code",
   "execution_count": 2,
   "id": "de2b5dbe",
   "metadata": {},
   "outputs": [],
   "source": [
    "%%capture\n",
    "!pip install rdkit-pypi # install RDKit \n",
    "!make install -C .. # install cmmrt"
   ]
  },
  {
   "cell_type": "markdown",
   "id": "3b884710",
   "metadata": {},
   "source": [
    "## Loading the SMRT dataset\n",
    "For convenience, we have included the retention times (RTs, in seconds) from the SMRT dataset in the `SMRT_rts.csv` file. Let's load it:"
   ]
  },
  {
   "cell_type": "code",
   "execution_count": 3,
   "id": "a68a22bc",
   "metadata": {},
   "outputs": [
    {
     "data": {
      "text/html": [
       "<div>\n",
       "<style scoped>\n",
       "    .dataframe tbody tr th:only-of-type {\n",
       "        vertical-align: middle;\n",
       "    }\n",
       "\n",
       "    .dataframe tbody tr th {\n",
       "        vertical-align: top;\n",
       "    }\n",
       "\n",
       "    .dataframe thead th {\n",
       "        text-align: right;\n",
       "    }\n",
       "</style>\n",
       "<table border=\"1\" class=\"dataframe\">\n",
       "  <thead>\n",
       "    <tr style=\"text-align: right;\">\n",
       "      <th></th>\n",
       "      <th>pubchem</th>\n",
       "      <th>rt</th>\n",
       "    </tr>\n",
       "  </thead>\n",
       "  <tbody>\n",
       "    <tr>\n",
       "      <th>0</th>\n",
       "      <td>191</td>\n",
       "      <td>92.7</td>\n",
       "    </tr>\n",
       "    <tr>\n",
       "      <th>1</th>\n",
       "      <td>253</td>\n",
       "      <td>633.5</td>\n",
       "    </tr>\n",
       "    <tr>\n",
       "      <th>2</th>\n",
       "      <td>298</td>\n",
       "      <td>735.1</td>\n",
       "    </tr>\n",
       "    <tr>\n",
       "      <th>3</th>\n",
       "      <td>409</td>\n",
       "      <td>89.6</td>\n",
       "    </tr>\n",
       "    <tr>\n",
       "      <th>4</th>\n",
       "      <td>471</td>\n",
       "      <td>687.4</td>\n",
       "    </tr>\n",
       "  </tbody>\n",
       "</table>\n",
       "</div>"
      ],
      "text/plain": [
       "   pubchem     rt\n",
       "0      191   92.7\n",
       "1      253  633.5\n",
       "2      298  735.1\n",
       "3      409   89.6\n",
       "4      471  687.4"
      ]
     },
     "execution_count": 3,
     "metadata": {},
     "output_type": "execute_result"
    }
   ],
   "source": [
    "import pandas as pd\n",
    "\n",
    "rt_df = pd.read_csv(\"SMRT_rts.csv\", dtype={'pubchem': int, 'rt': float})\n",
    "rt_df.head()"
   ]
  },
  {
   "cell_type": "markdown",
   "id": "6cd2a5a9",
   "metadata": {},
   "source": [
    "The file just consists of pairs of PubChem IDs and the retention times from the SMRT dataset. There are more than 80000 molecules, so let's subsample the dataframe to avoid large training times. Also, we can stratify the dataset so that the subsampled dataframe is as representative as possible of the whole one."
   ]
  },
  {
   "cell_type": "code",
   "execution_count": 4,
   "id": "678814db",
   "metadata": {},
   "outputs": [
    {
     "name": "stdout",
     "output_type": "stream",
     "text": [
      "SMRT dataset after subsampling has shape (6000, 3)\n"
     ]
    }
   ],
   "source": [
    "n_strats = 6                    # number of strats for the stratified sampling\n",
    "subsamples_by_group = 1000      # number of samples in each strats (there would be a total of n_strats * subsamples_by_group samples)\n",
    "\n",
    "\n",
    "rt_df['rt_group'] = pd.qcut(rt_df['rt'], q=n_strats, labels=False)\n",
    "rt_df = rt_df.groupby('rt_group').sample(n=subsamples_by_group, random_state=100)\n",
    "print(f\"SMRT dataset after subsampling has shape {rt_df.shape}\")"
   ]
  },
  {
   "cell_type": "markdown",
   "id": "669636ae",
   "metadata": {},
   "source": [
    "Since the dataframe contains only PubChem IDs and RTs we first need to compute some useful features of each molecule to used them for RT prediction. We shall use RDKit to compute the MACCS (Molecular ACCess System) keys. To compute the MACCS keys we need to proceed in two steps:\n",
    "1. Retrieve information on the chemical structure and associated data of each compound (based on the PubChem ID).\n",
    "2. Use the chemical information to compute MACCS keys using RDKit.\n",
    "\n",
    "You may download SDF files containing the result of step 1 from [SDFs.zip](https://ceu365-my.sharepoint.com/:u:/g/personal/constantino_garciama_ceu_es/EdAQ5ExO_iBEn84vGreXihkBLFkNVXD3f2qKDJiPtokP8w?e=TSfOUt). After decompressing the file, we may proceed with step 2:"
   ]
  },
  {
   "cell_type": "code",
   "execution_count": 5,
   "id": "7ae141ab",
   "metadata": {},
   "outputs": [
    {
     "data": {
      "text/html": [
       "<div>\n",
       "<style scoped>\n",
       "    .dataframe tbody tr th:only-of-type {\n",
       "        vertical-align: middle;\n",
       "    }\n",
       "\n",
       "    .dataframe tbody tr th {\n",
       "        vertical-align: top;\n",
       "    }\n",
       "\n",
       "    .dataframe thead th {\n",
       "        text-align: right;\n",
       "    }\n",
       "</style>\n",
       "<table border=\"1\" class=\"dataframe\">\n",
       "  <thead>\n",
       "    <tr style=\"text-align: right;\">\n",
       "      <th></th>\n",
       "      <th>pubchem</th>\n",
       "      <th>rt</th>\n",
       "      <th>rt_group</th>\n",
       "      <th>bit_0</th>\n",
       "      <th>bit_1</th>\n",
       "      <th>bit_2</th>\n",
       "      <th>bit_3</th>\n",
       "      <th>bit_4</th>\n",
       "      <th>bit_5</th>\n",
       "      <th>bit_6</th>\n",
       "      <th>...</th>\n",
       "      <th>bit_157</th>\n",
       "      <th>bit_158</th>\n",
       "      <th>bit_159</th>\n",
       "      <th>bit_160</th>\n",
       "      <th>bit_161</th>\n",
       "      <th>bit_162</th>\n",
       "      <th>bit_163</th>\n",
       "      <th>bit_164</th>\n",
       "      <th>bit_165</th>\n",
       "      <th>bit_166</th>\n",
       "    </tr>\n",
       "  </thead>\n",
       "  <tbody>\n",
       "    <tr>\n",
       "      <th>21808</th>\n",
       "      <td>46278991</td>\n",
       "      <td>610.2</td>\n",
       "      <td>0</td>\n",
       "      <td>0</td>\n",
       "      <td>0</td>\n",
       "      <td>0</td>\n",
       "      <td>0</td>\n",
       "      <td>0</td>\n",
       "      <td>0</td>\n",
       "      <td>0</td>\n",
       "      <td>...</td>\n",
       "      <td>0</td>\n",
       "      <td>1</td>\n",
       "      <td>1</td>\n",
       "      <td>1</td>\n",
       "      <td>1</td>\n",
       "      <td>1</td>\n",
       "      <td>1</td>\n",
       "      <td>1</td>\n",
       "      <td>1</td>\n",
       "      <td>0</td>\n",
       "    </tr>\n",
       "    <tr>\n",
       "      <th>54078</th>\n",
       "      <td>53155764</td>\n",
       "      <td>583.7</td>\n",
       "      <td>0</td>\n",
       "      <td>0</td>\n",
       "      <td>0</td>\n",
       "      <td>0</td>\n",
       "      <td>0</td>\n",
       "      <td>0</td>\n",
       "      <td>0</td>\n",
       "      <td>0</td>\n",
       "      <td>...</td>\n",
       "      <td>0</td>\n",
       "      <td>1</td>\n",
       "      <td>1</td>\n",
       "      <td>1</td>\n",
       "      <td>1</td>\n",
       "      <td>1</td>\n",
       "      <td>1</td>\n",
       "      <td>1</td>\n",
       "      <td>1</td>\n",
       "      <td>0</td>\n",
       "    </tr>\n",
       "    <tr>\n",
       "      <th>64051</th>\n",
       "      <td>53196723</td>\n",
       "      <td>569.8</td>\n",
       "      <td>0</td>\n",
       "      <td>0</td>\n",
       "      <td>0</td>\n",
       "      <td>0</td>\n",
       "      <td>0</td>\n",
       "      <td>0</td>\n",
       "      <td>0</td>\n",
       "      <td>0</td>\n",
       "      <td>...</td>\n",
       "      <td>0</td>\n",
       "      <td>1</td>\n",
       "      <td>0</td>\n",
       "      <td>1</td>\n",
       "      <td>1</td>\n",
       "      <td>1</td>\n",
       "      <td>1</td>\n",
       "      <td>1</td>\n",
       "      <td>1</td>\n",
       "      <td>0</td>\n",
       "    </tr>\n",
       "    <tr>\n",
       "      <th>75923</th>\n",
       "      <td>110196171</td>\n",
       "      <td>572.0</td>\n",
       "      <td>0</td>\n",
       "      <td>0</td>\n",
       "      <td>0</td>\n",
       "      <td>0</td>\n",
       "      <td>0</td>\n",
       "      <td>0</td>\n",
       "      <td>0</td>\n",
       "      <td>0</td>\n",
       "      <td>...</td>\n",
       "      <td>1</td>\n",
       "      <td>1</td>\n",
       "      <td>1</td>\n",
       "      <td>1</td>\n",
       "      <td>1</td>\n",
       "      <td>1</td>\n",
       "      <td>1</td>\n",
       "      <td>1</td>\n",
       "      <td>1</td>\n",
       "      <td>0</td>\n",
       "    </tr>\n",
       "    <tr>\n",
       "      <th>51293</th>\n",
       "      <td>53143710</td>\n",
       "      <td>593.4</td>\n",
       "      <td>0</td>\n",
       "      <td>0</td>\n",
       "      <td>0</td>\n",
       "      <td>0</td>\n",
       "      <td>0</td>\n",
       "      <td>0</td>\n",
       "      <td>0</td>\n",
       "      <td>0</td>\n",
       "      <td>...</td>\n",
       "      <td>0</td>\n",
       "      <td>1</td>\n",
       "      <td>0</td>\n",
       "      <td>1</td>\n",
       "      <td>1</td>\n",
       "      <td>1</td>\n",
       "      <td>1</td>\n",
       "      <td>1</td>\n",
       "      <td>1</td>\n",
       "      <td>0</td>\n",
       "    </tr>\n",
       "  </tbody>\n",
       "</table>\n",
       "<p>5 rows × 170 columns</p>\n",
       "</div>"
      ],
      "text/plain": [
       "         pubchem     rt  rt_group bit_0 bit_1 bit_2 bit_3 bit_4 bit_5 bit_6  \\\n",
       "21808   46278991  610.2         0     0     0     0     0     0     0     0   \n",
       "54078   53155764  583.7         0     0     0     0     0     0     0     0   \n",
       "64051   53196723  569.8         0     0     0     0     0     0     0     0   \n",
       "75923  110196171  572.0         0     0     0     0     0     0     0     0   \n",
       "51293   53143710  593.4         0     0     0     0     0     0     0     0   \n",
       "\n",
       "       ... bit_157 bit_158 bit_159 bit_160 bit_161 bit_162 bit_163 bit_164  \\\n",
       "21808  ...       0       1       1       1       1       1       1       1   \n",
       "54078  ...       0       1       1       1       1       1       1       1   \n",
       "64051  ...       0       1       0       1       1       1       1       1   \n",
       "75923  ...       1       1       1       1       1       1       1       1   \n",
       "51293  ...       0       1       0       1       1       1       1       1   \n",
       "\n",
       "      bit_165 bit_166  \n",
       "21808       1       0  \n",
       "54078       1       0  \n",
       "64051       1       0  \n",
       "75923       1       0  \n",
       "51293       1       0  \n",
       "\n",
       "[5 rows x 170 columns]"
      ]
     },
     "execution_count": 5,
     "metadata": {},
     "output_type": "execute_result"
    }
   ],
   "source": [
    "import os\n",
    "from rdkit.Chem import MACCSkeys\n",
    "from rdkit.Chem.rdmolfiles import SDMolSupplier\n",
    "\n",
    "sdfs_path = \"../rt_data/sdfs\"\n",
    "\n",
    "def compute_maccs(row):\n",
    "    filepath = os.path.join(sdfs_path, str(int(row.pubchem)) + \".sdf\")\n",
    "    mols_in_sdf = SDMolSupplier(filepath)\n",
    "    assert len(mols_in_sdf) == 1, \"There should be only one molecule in the sdf file\"\n",
    "    MACCSFP_fingerprint = MACCSkeys.GenMACCSKeys(mols_in_sdf[0])\n",
    "    return pd.Series(list(MACCSFP_fingerprint.ToBitString()),\n",
    "                     index=['bit_' + str(i) for i in range(MACCSFP_fingerprint.GetNumBits())])\n",
    "\n",
    "\n",
    "fgps_df = rt_df.apply(compute_maccs, axis=1)\n",
    "fgps_df = pd.concat([rt_df, fgps_df], axis=1)\n",
    "fgps_df.head()"
   ]
  },
  {
   "cell_type": "markdown",
   "id": "9fbf3118",
   "metadata": {},
   "source": [
    "Now that we have useful features for RT prediction, we may split our dataset on train and test sets. Since we have stratified the data based on the RTs, we can reuse the strats to obtain a representative test set:"
   ]
  },
  {
   "cell_type": "code",
   "execution_count": 6,
   "id": "546218d0",
   "metadata": {},
   "outputs": [],
   "source": [
    "from sklearn.model_selection import train_test_split\n",
    "\n",
    "X = fgps_df[[column for column in fgps_df.columns if column.startswith('bit_')]].values.astype('float32')\n",
    "y = fgps_df['rt'].values.astype('float32')\n",
    "\n",
    "X_train, X_test, y_train, y_test = train_test_split(X, y, test_size=0.2, random_state=42,\n",
    "                                                    stratify=rt_df['rt_group'].values)"
   ]
  },
  {
   "cell_type": "markdown",
   "id": "6d3d56ba",
   "metadata": {},
   "source": [
    "We can now train a predictor using the train data. Let us use the best regressor obtained in the paper \n",
    "> C.A. García, A. Gil-de-la-Fuente, C. Barbas, and A. Otero. **Evaluation of machine learning techniques forsmall molecule retention time prediction.** *(Under review)*.\n",
    "\n",
    "That is, a DNN trained with warm restarts and Stochastic Weight Averaging (SWA). This can be easily done by importing the `SkDnn` class from the `cmmrt` package. The constructor has sensible defaults based on extensive hyperparameter search, and hence, we only need to specify which columns are binary (in this example, all of them)."
   ]
  },
  {
   "cell_type": "code",
   "execution_count": 12,
   "id": "68f8dab3",
   "metadata": {},
   "outputs": [],
   "source": [
    "import numpy as np\n",
    "from cmmrt.rt.models.nn.SkDnn import SkDnn\n",
    "\n",
    "dnn = SkDnn(binary_col_indices=np.arange(X.shape[1]))"
   ]
  },
  {
   "cell_type": "markdown",
   "id": "507f63e6",
   "metadata": {},
   "source": [
    "The `Sk` part of the name is due to the fact that `SkDnn` is an `scikit-learn` regressor. Hence, we can easily train the regressor..."
   ]
  },
  {
   "cell_type": "code",
   "execution_count": 13,
   "id": "4cd4697d",
   "metadata": {},
   "outputs": [
    {
     "data": {
      "text/plain": [
       "SkDnn(binary_col_indices=array([  0,   1,   2,   3,   4,   5,   6,   7,   8,   9,  10,  11,  12,\n",
       "        13,  14,  15,  16,  17,  18,  19,  20,  21,  22,  23,  24,  25,\n",
       "        26,  27,  28,  29,  30,  31,  32,  33,  34,  35,  36,  37,  38,\n",
       "        39,  40,  41,  42,  43,  44,  45,  46,  47,  48,  49,  50,  51,\n",
       "        52,  53,  54,  55,  56,  57,  58,  59,  60,  61,  62,  63,  64,\n",
       "        65,  66,  67,  68,  69,  70,  71,  72,  73,  74,  75,  76,  77,\n",
       "        78,  79,  80,  81,  82,  83,  84,  85,  86,  87,  88,  89,  90,\n",
       "        91,  92,  93,  94,  95,  96,  97,  98,  99, 100, 101, 102, 103,\n",
       "       104, 105, 106, 107, 108, 109, 110, 111, 112, 113, 114, 115, 116,\n",
       "       117, 118, 119, 120, 121, 122, 123, 124, 125, 126, 127, 128, 129,\n",
       "       130, 131, 132, 133, 134, 135, 136, 137, 138, 139, 140, 141, 142,\n",
       "       143, 144, 145, 146, 147, 148, 149, 150, 151, 152, 153, 154, 155,\n",
       "       156, 157, 158, 159, 160, 161, 162, 163, 164, 165, 166]))"
      ]
     },
     "execution_count": 13,
     "metadata": {},
     "output_type": "execute_result"
    }
   ],
   "source": [
    "dnn.fit(X_train, y_train)"
   ]
  },
  {
   "cell_type": "markdown",
   "id": "1b089c4c",
   "metadata": {},
   "source": [
    "... and also test its performance on the test set:"
   ]
  },
  {
   "cell_type": "code",
   "execution_count": 17,
   "id": "ea3f9008",
   "metadata": {},
   "outputs": [
    {
     "data": {
      "image/png": "[encoded data removed]",
      "text/plain": [
       "<Figure size 432x288 with 1 Axes>"
      ]
     },
     "metadata": {
      "needs_background": "light"
     },
     "output_type": "display_data"
    }
   ],
   "source": [
    "import matplotlib.pyplot as plt\n",
    "%matplotlib inline\n",
    "\n",
    "predictions = dnn.predict(X_test)\n",
    "\n",
    "# Let's compare the predictions with the actual data with a scatterplot:\n",
    "plt.scatter(predictions, y_test)\n",
    "plt.xlabel('Predicted RT (seconds)')\n",
    "plt.ylabel('Experimental RT (seconds)')\n",
    "# Let's also add the ideal identity line (the closer the points to the line, the better the prediciton)\n",
    "axes = plt.gca()\n",
    "x_vals = np.array(axes.get_xlim())\n",
    "plt.plot(x_vals, x_vals, 'r--')\n",
    "plt.show()"
   ]
  }
 ],
 "metadata": {
  "kernelspec": {
   "display_name": "Python 3 (ipykernel)",
   "language": "python",
   "name": "python3"
  },
  "language_info": {
   "codemirror_mode": {
    "name": "ipython",
    "version": 3
   },
   "file_extension": ".py",
   "mimetype": "text/x-python",
   "name": "python",
   "nbconvert_exporter": "python",
   "pygments_lexer": "ipython3",
   "version": "3.8.8"
  }
 },
 "nbformat": 4,
 "nbformat_minor": 5
}